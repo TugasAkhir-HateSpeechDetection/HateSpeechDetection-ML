{
  "nbformat": 4,
  "nbformat_minor": 0,
  "metadata": {
    "colab": {
      "provenance": [],
      "gpuType": "T4"
    },
    "kernelspec": {
      "name": "python3",
      "display_name": "Python 3"
    },
    "language_info": {
      "name": "python"
    },
    "accelerator": "GPU"
  },
  "cells": [
    {
      "cell_type": "code",
      "source": [
        "from google.colab import drive\n",
        "drive.mount('/content/drive')"
      ],
      "metadata": {
        "id": "GiEF61TAIfiP",
        "colab": {
          "base_uri": "https://localhost:8080/"
        },
        "outputId": "0fc0c6e5-dcf6-47cf-e860-694091183135"
      },
      "execution_count": null,
      "outputs": [
        {
          "output_type": "stream",
          "name": "stdout",
          "text": [
            "Mounted at /content/drive\n"
          ]
        }
      ]
    },
    {
      "cell_type": "code",
      "source": [
        "import torch\n",
        "import torch.nn as nn\n",
        "from torch.utils.data import DataLoader, TensorDataset\n",
        "\n",
        "import pandas as pd\n",
        "import numpy as np\n",
        "import matplotlib.pyplot as plt\n",
        "import seaborn as sns\n",
        "import json\n",
        "import math\n",
        "\n",
        "from sklearn.metrics import accuracy_score, precision_score, recall_score, f1_score, hamming_loss, roc_auc_score\n",
        "from sklearn.model_selection import train_test_split\n",
        "from sklearn.metrics import multilabel_confusion_matrix, precision_score, recall_score, accuracy_score"
      ],
      "metadata": {
        "id": "WeEohBUdIhft"
      },
      "execution_count": null,
      "outputs": []
    },
    {
      "cell_type": "markdown",
      "source": [
        "# Load Model"
      ],
      "metadata": {
        "id": "Q-8Sb2EBgZ2M"
      }
    },
    {
      "cell_type": "code",
      "source": [
        "# Load best_params.json\n",
        "try:\n",
        "  with open('/content/drive/MyDrive/Colab Notebooks/Tugas Akhir/best_params.json') as f:\n",
        "      data = json.load(f)\n",
        "      best_item = max(data, key=lambda x: x['val_acc'])\n",
        "      best_params = best_item['params']\n",
        "except Exception as e:\n",
        "    print(\"Gagal membaca best_params.json:\", e)\n",
        "    exit(1)"
      ],
      "metadata": {
        "id": "i7ZLWy8XKre6"
      },
      "execution_count": null,
      "outputs": []
    },
    {
      "cell_type": "code",
      "source": [
        "# Inisialisasi class BiGRU\n",
        "class BiGRUModel(nn.Module):\n",
        "    def __init__(self, units):\n",
        "        super(BiGRUModel, self).__init__()\n",
        "        self.gru = nn.GRU(input_size=768, hidden_size=units, batch_first=True, bidirectional=True)\n",
        "        self.fc = nn.Linear(units * 2, 9)\n",
        "        self.sigmoid = nn.Sigmoid()\n",
        "\n",
        "    def forward(self, x):\n",
        "        _, h = self.gru(x)\n",
        "        h_concat = torch.cat((h[0], h[1]), dim=1)\n",
        "        out = self.fc(h_concat)\n",
        "        return self.sigmoid(out)"
      ],
      "metadata": {
        "id": "4w55jUZutpug"
      },
      "execution_count": null,
      "outputs": []
    },
    {
      "cell_type": "code",
      "source": [
        "device = torch.device('cuda' if torch.cuda.is_available() else 'cpu')"
      ],
      "metadata": {
        "id": "oYt5yRToImQ-"
      },
      "execution_count": null,
      "outputs": []
    },
    {
      "cell_type": "code",
      "source": [
        "model = BiGRUModel(best_params['units'])\n",
        "model.load_state_dict(torch.load('/content/drive/MyDrive/Colab Notebooks/Tugas Akhir/Bi-GRU.pt', map_location=device))"
      ],
      "metadata": {
        "colab": {
          "base_uri": "https://localhost:8080/"
        },
        "id": "6gOhMluxIp8E",
        "outputId": "f6e61374-1dd0-47ac-a414-9e7a7fcbe514"
      },
      "execution_count": null,
      "outputs": [
        {
          "output_type": "execute_result",
          "data": {
            "text/plain": [
              "<All keys matched successfully>"
            ]
          },
          "metadata": {},
          "execution_count": 21
        }
      ]
    },
    {
      "cell_type": "code",
      "source": [
        "X = np.load('/content/drive/MyDrive/Colab Notebooks/Tugas Akhir/bert_embedding.npy')\n",
        "y_df = pd.read_csv('/content/drive/MyDrive/Colab Notebooks/Tugas Akhir/preprocessed_data.csv')\n",
        "y = y_df.drop(columns=['Tweet']).values"
      ],
      "metadata": {
        "id": "_cX6FpdEJXQp"
      },
      "execution_count": null,
      "outputs": []
    },
    {
      "cell_type": "code",
      "source": [
        "_, X_test, _, y_test = train_test_split(X, y, test_size=0.2, random_state=42)"
      ],
      "metadata": {
        "id": "-sX5l1_qKOgd"
      },
      "execution_count": null,
      "outputs": []
    },
    {
      "cell_type": "code",
      "source": [
        "X_test_tensor = torch.tensor(X_test, dtype=torch.float32)\n",
        "y_test_tensor = torch.tensor(y_test, dtype=torch.float32)\n",
        "\n",
        "test_loader = DataLoader(TensorDataset(X_test_tensor, y_test_tensor), batch_size=best_params['batch_size'])"
      ],
      "metadata": {
        "id": "WXSKeYRnKTT2"
      },
      "execution_count": null,
      "outputs": []
    },
    {
      "cell_type": "code",
      "source": [
        "def evaluate_model(model, dataloader, device):\n",
        "    model.eval()\n",
        "    model.to(device)\n",
        "\n",
        "    criterion = nn.BCELoss()\n",
        "    test_losses = []\n",
        "    test_accs = []\n",
        "\n",
        "    with torch.no_grad():\n",
        "        for xb, yb in dataloader:\n",
        "            xb, yb = xb.to(device), yb.to(device)\n",
        "            preds = model(xb).squeeze()\n",
        "            loss = criterion(preds, yb.float())\n",
        "            test_losses.append(loss.item())\n",
        "            preds_binary = (preds > 0.5).float()\n",
        "            acc = (preds_binary == yb).float().mean().item()\n",
        "            test_accs.append(acc)\n",
        "\n",
        "    mean_loss = np.mean(test_losses)\n",
        "    mean_acc = np.mean(test_accs)\n",
        "\n",
        "    print(f\"Test Accuracy: {mean_acc:.4f}\")\n",
        "    print(f\"Test Loss: {mean_loss:.4f}\")\n",
        "\n",
        "    return mean_loss, mean_acc\n"
      ],
      "metadata": {
        "id": "fk_hfhBPV3mh"
      },
      "execution_count": null,
      "outputs": []
    },
    {
      "cell_type": "code",
      "source": [
        "def get_preds_and_targets(model, dataloader, device):\n",
        "    model.eval()\n",
        "    model.to(device)\n",
        "\n",
        "    all_preds = []\n",
        "    all_targets = []\n",
        "\n",
        "    with torch.no_grad():\n",
        "        for xb, yb in dataloader:\n",
        "            xb = xb.to(device)\n",
        "            preds = model(xb).cpu()\n",
        "            preds_binary = (preds > 0.5).float()\n",
        "            all_preds.append(preds_binary)\n",
        "            all_targets.append(yb)\n",
        "\n",
        "    y_pred = torch.cat(all_preds).numpy()\n",
        "    y_true = torch.cat(all_targets).numpy()\n",
        "    return y_pred, y_true"
      ],
      "metadata": {
        "id": "zZOiJ2TKVt_4"
      },
      "execution_count": null,
      "outputs": []
    },
    {
      "cell_type": "code",
      "source": [
        "def generate_confusion_matrices(model, test_loader, label_names, device):\n",
        "    y_pred, y_true = get_preds_and_targets(model, test_loader, device)\n",
        "    cms = multilabel_confusion_matrix(y_true, y_pred)\n",
        "\n",
        "    num_labels = len(label_names)\n",
        "    cols = 3\n",
        "    rows = math.ceil(num_labels / cols)\n",
        "\n",
        "    fig, axes = plt.subplots(rows, cols, figsize=(cols * 4.5, rows * 4.5))\n",
        "    axes = axes.flatten() if num_labels > 1 else [axes]\n",
        "\n",
        "    for i, label in enumerate(label_names):\n",
        "        cm = cms[i]\n",
        "        ax = axes[i]\n",
        "        cm_flipped = cm[::-1, ::-1]\n",
        "\n",
        "        sns.heatmap(cm_flipped, annot=True, fmt='d', cmap='Blues', cbar=False,\n",
        "                    xticklabels=['Pos', 'Neg'], yticklabels=['Pos', 'Neg'], ax=ax)\n",
        "        ax.set_title(f'{label}')\n",
        "        ax.set_xlabel('Predicted')\n",
        "        ax.set_ylabel('Actual')\n",
        "\n",
        "    for j in range(len(label_names), len(axes)):\n",
        "        fig.delaxes(axes[j])\n",
        "\n",
        "    fig.subplots_adjust(wspace=0.4, hspace=0.6)\n",
        "    plt.show()\n",
        "\n",
        "    return cms\n"
      ],
      "metadata": {
        "id": "MWV38fySVwfR"
      },
      "execution_count": null,
      "outputs": []
    },
    {
      "cell_type": "code",
      "source": [
        "def generate_classification_report(model, test_loader, label_names, device):\n",
        "    y_pred, y_true = get_preds_and_targets(model, test_loader, device)\n",
        "\n",
        "    recalls = recall_score(y_true, y_pred, average=None, zero_division=0)\n",
        "    precisions = precision_score(y_true, y_pred, average=None, zero_division=0)\n",
        "    accuracies = []\n",
        "\n",
        "    cms = multilabel_confusion_matrix(y_true, y_pred)\n",
        "    for cm in cms:\n",
        "        tn, fp, fn, tp = cm.ravel()\n",
        "        acc = (tp + tn) / (tp + tn + fp + fn)\n",
        "        accuracies.append(acc)\n",
        "\n",
        "    avg_accuracy = np.mean(accuracies)\n",
        "    avg_recall = np.mean(recalls)\n",
        "    avg_precision = np.mean(precisions)\n",
        "\n",
        "    print(f\"\\n{'Label':<15} {'Accuracy':<10} {'Recall':<10} {'Precision':<10}\")\n",
        "    print(\"-\" * 45)\n",
        "    for i in range(len(label_names)):\n",
        "        print(f\"{label_names[i]:<15} {accuracies[i]:<10.4f} {recalls[i]:<10.4f} {precisions[i]:<10.4f}\")\n",
        "    print(\"-\" * 45)\n",
        "    print(f\"{'average':<15} {avg_accuracy:<10.4f} {avg_recall:<10.4f} {avg_precision:<10.4f}\")\n"
      ],
      "metadata": {
        "id": "IwbsJ_K9V7Q7"
      },
      "execution_count": null,
      "outputs": []
    },
    {
      "cell_type": "code",
      "source": [
        "# def evaluate_model(model, dataloader, device):\n",
        "#     model.eval()\n",
        "#     model.to(device)\n",
        "\n",
        "#     test_losses = []\n",
        "#     test_accs = []\n",
        "\n",
        "#     with torch.no_grad():\n",
        "#         for xb, yb in dataloader:\n",
        "#             xb, yb = xb.to(device), yb.to(device)\n",
        "#             preds = model(xb).squeeze()\n",
        "#             loss = nn.BCELoss(preds, yb.float())\n",
        "#             test_losses.append(loss.item())\n",
        "#             preds_binary = (preds > 0.5).float()\n",
        "#             acc = (preds_binary == yb).float().mean().item()\n",
        "#             test_accs.append(acc)\n",
        "\n",
        "#     mean_loss = np.mean(test_losses)\n",
        "#     mean_acc = np.mean(test_accs)\n",
        "\n",
        "#     print(f\"Test Accuracy: {mean_acc:.4f}\")\n",
        "#     print(f\"Test Loss: {mean_loss:.4f}\")\n",
        "\n",
        "#     return mean_loss, mean_acc\n",
        "\n",
        "# def generate_confusion_matrices(model, test_loader, label_names, device):\n",
        "#     model.eval()\n",
        "#     model.to(device)\n",
        "\n",
        "#     all_preds = []\n",
        "#     all_targets = []\n",
        "\n",
        "#     with torch.no_grad():\n",
        "#         for xb, yb in test_loader:\n",
        "#             xb = xb.to(device)\n",
        "#             preds = model(xb).cpu()\n",
        "#             preds_binary = (preds > 0.5).float()\n",
        "#             all_preds.append(preds_binary)\n",
        "#             all_targets.append(yb)\n",
        "\n",
        "#     y_pred = torch.cat(all_preds).numpy()\n",
        "#     y_true = torch.cat(all_targets).numpy()\n",
        "\n",
        "#     cms = multilabel_confusion_matrix(y_true, y_pred)\n",
        "\n",
        "#     num_labels = len(label_names)\n",
        "#     cols = 3\n",
        "#     rows = math.ceil(num_labels / cols)\n",
        "\n",
        "#     fig, axes = plt.subplots(rows, cols, figsize=(cols * 4.5, rows * 4.5))\n",
        "#     axes = axes.flatten() if num_labels > 1 else [axes]\n",
        "\n",
        "#     for i, label in enumerate(label_names):\n",
        "#         cm = cms[i]\n",
        "#         ax = axes[i]\n",
        "\n",
        "#         # Balik baris dan kolom confusion matrix\n",
        "#         cm_flipped = cm[::-1, ::-1]\n",
        "\n",
        "#         sns.heatmap(cm_flipped, annot=True, fmt='d', cmap='Blues', cbar=False,\n",
        "#                     xticklabels=['Pos', 'Neg'], yticklabels=['Pos', 'Neg'], ax=ax)\n",
        "#         ax.set_title(f'{label}')\n",
        "#         ax.set_xlabel('Predicted')\n",
        "#         ax.set_ylabel('Actual')\n",
        "\n",
        "#     for j in range(len(label_names), len(axes)):\n",
        "#         fig.delaxes(axes[j])\n",
        "\n",
        "#     fig.subplots_adjust(wspace=0.4, hspace=0.6)\n",
        "#     plt.show()\n",
        "\n",
        "#     return cms\n",
        "\n",
        "# def generate_classification_report(model, test_loader, label_names, device):\n",
        "#     model.eval()\n",
        "#     model.to(device)\n",
        "\n",
        "#     all_preds = []\n",
        "#     all_targets = []\n",
        "\n",
        "#     with torch.no_grad():\n",
        "#         for xb, yb in test_loader:\n",
        "#             xb = xb.to(device)\n",
        "#             preds = model(xb).cpu()\n",
        "#             preds_binary = (preds > 0.5).float()\n",
        "#             all_preds.append(preds_binary)\n",
        "#             all_targets.append(yb)\n",
        "\n",
        "#     y_pred = torch.cat(all_preds).numpy()\n",
        "#     y_true = torch.cat(all_targets).numpy()\n",
        "\n",
        "#     recalls = recall_score(y_true, y_pred, average=None, zero_division=0)\n",
        "#     precisions = precision_score(y_true, y_pred, average=None, zero_division=0)\n",
        "#     accuracies = []\n",
        "\n",
        "#     for i in range(len(label_names)):\n",
        "#         cm = multilabel_confusion_matrix(y_true, y_pred)[i]\n",
        "#         tn, fp, fn, tp = cm.ravel()\n",
        "#         acc = (tp + tn) / (tp + tn + fp + fn)\n",
        "#         accuracies.append(acc)\n",
        "\n",
        "#     # Hitung rata-rata (macro average)\n",
        "#     avg_accuracy = np.mean(accuracies)\n",
        "#     avg_recall = np.mean(recalls)\n",
        "#     avg_precision = np.mean(precisions)\n",
        "\n",
        "#     # Tampilkan hasil evaluasi\n",
        "#     print(f\"\\n{'Label':<15} {'Accuracy':<10} {'Recall':<10} {'Precision':<10}\")\n",
        "#     print(\"-\" * 45)\n",
        "#     for i in range(len(label_names)):\n",
        "#         print(f\"{label_names[i]:<15} {accuracies[i]:<10.4f} {recalls[i]:<10.4f} {precisions[i]:<10.4f}\")\n",
        "#     print(\"-\" * 45)\n",
        "#     print(f\"{'average':<15} {avg_accuracy:<10.4f} {avg_recall:<10.4f} {avg_precision:<10.4f}\")\n"
      ],
      "metadata": {
        "id": "58P-sbM-PG1Q"
      },
      "execution_count": null,
      "outputs": []
    },
    {
      "cell_type": "code",
      "source": [
        "# inisialisasi label_names\n",
        "label_names = y_df.drop(columns=['Tweet']).columns.tolist()"
      ],
      "metadata": {
        "id": "Nb6JEYY0RQcc"
      },
      "execution_count": null,
      "outputs": []
    },
    {
      "cell_type": "code",
      "source": [
        "# Konversi y_test (NumPy array) ke DataFrame\n",
        "y_test_df = pd.DataFrame(y_test, columns=label_names)\n",
        "\n",
        "# Hitung jumlah 1 dan 0 untuk tiap label\n",
        "label_counts = y_test_df.apply(lambda col: pd.Series({\n",
        "    'Positive (1)': (col == 1).sum(),\n",
        "    'Negative (0)': (col == 0).sum()\n",
        "}))\n",
        "\n",
        "# Transpose agar rapi\n",
        "label_counts = label_counts.T\n",
        "\n",
        "# Tambahkan kolom Total\n",
        "label_counts['Total'] = label_counts['Positive (1)'] + label_counts['Negative (0)']\n",
        "\n",
        "# Tampilkan\n",
        "print(label_counts)"
      ],
      "metadata": {
        "colab": {
          "base_uri": "https://localhost:8080/"
        },
        "id": "w0rghazkmboF",
        "outputId": "a2852ebb-c296-44e6-c642-925877551a49"
      },
      "execution_count": null,
      "outputs": [
        {
          "output_type": "stream",
          "name": "stdout",
          "text": [
            "               Positive (1)  Negative (0)  Total\n",
            "HS                     1084          1509   2593\n",
            "Abusive                 978          1615   2593\n",
            "HS_Individual           712          1881   2593\n",
            "HS_Group                372          2221   2593\n",
            "HS_Religion             124          2469   2593\n",
            "HS_Race                 136          2457   2593\n",
            "HS_Physical              54          2539   2593\n",
            "HS_Gender                60          2533   2593\n",
            "HS_Other                742          1851   2593\n"
          ]
        }
      ]
    },
    {
      "cell_type": "code",
      "source": [
        "# Evaluasi\n",
        "evaluate_model(model, test_loader, device)\n",
        "generate_confusion_matrices(model, test_loader, label_names, device)\n",
        "generate_classification_report(model, test_loader, label_names, device)"
      ],
      "metadata": {
        "colab": {
          "base_uri": "https://localhost:8080/",
          "height": 1000
        },
        "id": "JodOtmyFXmlS",
        "outputId": "fdc8472b-0511-44fd-a77e-90ea57e46b8b"
      },
      "execution_count": null,
      "outputs": [
        {
          "output_type": "stream",
          "name": "stdout",
          "text": [
            "Test Accuracy: 0.9580\n",
            "Test Loss: 0.1437\n"
          ]
        },
        {
          "output_type": "display_data",
          "data": {
            "text/plain": [
              "<Figure size 1350x1350 with 9 Axes>"
            ],
            "image/png": "[encoded data removed]"
          },
          "metadata": {}
        },
        {
          "output_type": "stream",
          "name": "stdout",
          "text": [
            "\n",
            "Label           Accuracy   Recall     Precision \n",
            "---------------------------------------------\n",
            "HS              0.9294     0.9197     0.9122    \n",
            "Abusive         0.9452     0.9479     0.9106    \n",
            "HS_Individual   0.9209     0.8469     0.8627    \n",
            "HS_Group        0.9510     0.7957     0.8530    \n",
            "HS_Religion     0.9807     0.8306     0.7803    \n",
            "HS_Race         0.9815     0.7647     0.8667    \n",
            "HS_Physical     0.9861     0.4074     0.8462    \n",
            "HS_Gender       0.9857     0.4833     0.8286    \n",
            "HS_Other        0.9275     0.8747     0.8723    \n",
            "---------------------------------------------\n",
            "average         0.9565     0.7634     0.8592    \n"
          ]
        }
      ]
    }
  ]
}