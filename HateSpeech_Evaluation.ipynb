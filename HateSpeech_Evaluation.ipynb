{
  "nbformat": 4,
  "nbformat_minor": 0,
  "metadata": {
    "colab": {
      "provenance": []
    },
    "kernelspec": {
      "name": "python3",
      "display_name": "Python 3"
    },
    "language_info": {
      "name": "python"
    }
  },
  "cells": [
    {
      "cell_type": "code",
      "source": [
        "import re"
      ],
      "metadata": {
        "id": "GiEF61TAIfiP"
      },
      "execution_count": null,
      "outputs": []
    },
    {
      "cell_type": "code",
      "source": [
        "text = \"2. \\n\\xe2\\x80\\x9csayaaaaang\\xe2\\x80\\x9d\\n\\xe2\\x80\\x9ckamu dimana?\\xe2\\x80\\x9d\\n\\xe2\\x80\\x9cby\\xe2\\x80\\x9d 123456789x\\n\\xe2\\x80\\x9cudah makan?\\xe2\\x80\\x9d\\n\\xe2\\x80\\x9caku takut diajak minum\\xe2\\x80\\x9d\\n\\xe2\\x80\\x9csebatang boleh?\\xe2\\x80\\x9d\\n\\xe2\\x80\""
      ],
      "metadata": {
        "id": "WeEohBUdIhft"
      },
      "execution_count": null,
      "outputs": []
    },
    {
      "cell_type": "code",
      "source": [
        "text = re.sub(r'(\\\\x[0-9a-fA-F]{2})+', '', text)\n",
        "text = re.sub(r'[!\"$%&\\'()*+,\\-./:;<=>?@\\[\\\\\\]^{|}~_#]', ' ', text)\n",
        "text = re.sub(r'\\s+', ' ', text).strip()\n",
        "print(text)"
      ],
      "metadata": {
        "colab": {
          "base_uri": "https://localhost:8080/"
        },
        "id": "YYJt1MX8Iw-W",
        "outputId": "bd156ee2-903e-44cb-acfe-44f0b5106323"
      },
      "execution_count": null,
      "outputs": [
        {
          "output_type": "stream",
          "name": "stdout",
          "text": [
            "2 âsayaaaaangâ âkamu dimana â âbyâ 123456789x âudah makan â âaku takut diajak minumâ âsebatang boleh â â\n"
          ]
        }
      ]
    }
  ]
}